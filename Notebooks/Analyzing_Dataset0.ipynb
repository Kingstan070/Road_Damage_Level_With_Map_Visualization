{
 "cells": [
  {
   "cell_type": "code",
   "execution_count": 45,
   "id": "3a962326-0350-44a0-a3e4-bffc8ca88429",
   "metadata": {},
   "outputs": [
    {
     "data": {
      "text/plain": [
       "WindowsPath('E:/MAJOR PROJECT/Dataset/Dataset 0/road_classification')"
      ]
     },
     "execution_count": 45,
     "metadata": {},
     "output_type": "execute_result"
    }
   ],
   "source": [
    "from pathlib import Path\n",
    "\n",
    "ROOT_DIR = Path('E:/MAJOR PROJECT/Dataset')\n",
    "DATASET_DIR = Path('Dataset 0/road_classification')\n",
    "\n",
    "\n",
    "DATASET_PATH = ROOT_DIR.joinpath(DATASET_DIR)\n",
    "\n",
    "DATASET_PATH"
   ]
  },
  {
   "cell_type": "code",
   "execution_count": 46,
   "id": "b4b265e9-8341-4664-b006-97c3e164bedd",
   "metadata": {},
   "outputs": [],
   "source": [
    "from utils.Files_Path import print_file_structure, list_files_in_folder"
   ]
  },
  {
   "cell_type": "code",
   "execution_count": 47,
   "id": "cf2f0509-b87c-4198-9553-cc5e3bad9fae",
   "metadata": {},
   "outputs": [
    {
     "name": "stdout",
     "output_type": "stream",
     "text": [
      "road_classification/\n",
      "    Road Surface Image Dataset with Detailed Annotations/\n",
      "        dataset(v2)/\n",
      "            dataset/\n",
      "                test-set/\n",
      "                    1/\n",
      "                        [60 files]\n",
      "                    10/\n",
      "                        [60 files]\n",
      "                    11/\n",
      "                        [60 files]\n",
      "                    12/\n",
      "                        [60 files]\n",
      "                    2/\n",
      "                        [60 files]\n",
      "                    3/\n",
      "                        [60 files]\n",
      "                    4/\n",
      "                        [60 files]\n",
      "                    5/\n",
      "                        [60 files]\n",
      "                    6/\n",
      "                        [60 files]\n",
      "                    7/\n",
      "                        [60 files]\n",
      "                    8/\n",
      "                        [60 files]\n",
      "                    9/\n",
      "                        [60 files]\n",
      "                train-set/\n",
      "                    dry_asphalt_severe/\n",
      "                        [7930 files]\n",
      "                    dry_asphalt_slight/\n",
      "                        [23090 files]\n",
      "                    dry_asphalt_smooth/\n",
      "                        [19913 files]\n",
      "                    dry_concrete_severe/\n",
      "                        [21194 files]\n",
      "                    dry_concrete_slight/\n",
      "                        [11811 files]\n",
      "                    dry_concrete_smooth/\n",
      "                        [19003 files]\n",
      "                    dry_gravel/\n",
      "                        [21413 files]\n",
      "                    dry_mud/\n",
      "                        [22094 files]\n",
      "                    fresh_snow/\n",
      "                        [20511 files]\n",
      "                    ice/\n",
      "                        [21203 files]\n",
      "                    melted_snow/\n",
      "                        [19902 files]\n",
      "                    water_asphalt_severe/\n",
      "                        [2204 files]\n",
      "                    water_asphalt_slight/\n",
      "                        [2800 files]\n",
      "                    water_asphalt_smooth/\n",
      "                        [21612 files]\n",
      "                    water_concrete_severe/\n",
      "                        [4024 files]\n",
      "                    water_concrete_slight/\n",
      "                        [1181 files]\n",
      "                    water_concrete_smooth/\n",
      "                        [19226 files]\n",
      "                    water_gravel/\n",
      "                        [6435 files]\n",
      "                    water_mud/\n",
      "                        [7155 files]\n",
      "                    wet_asphalt_severe/\n",
      "                        [1646 files]\n",
      "                    wet_asphalt_slight/\n",
      "                        [9408 files]\n",
      "                    wet_asphalt_smooth/\n",
      "                        [21746 files]\n",
      "                    wet_concrete_severe/\n",
      "                        [2763 files]\n",
      "                    wet_concrete_slight/\n",
      "                        [1163 files]\n",
      "                    wet_concrete_smooth/\n",
      "                        [17376 files]\n",
      "                    wet_gravel/\n",
      "                        [21208 files]\n",
      "                    wet_mud/\n",
      "                        [22140 files]\n"
     ]
    }
   ],
   "source": [
    "DATSET_FOLDER_LIST = print_file_structure(DATASET_PATH)"
   ]
  },
  {
   "cell_type": "code",
   "execution_count": 48,
   "id": "54bcec7e-87da-489d-83e4-a03c5a226c58",
   "metadata": {},
   "outputs": [
    {
     "data": {
      "text/plain": [
       "(['E:\\\\MAJOR PROJECT\\\\Dataset\\\\Dataset 0\\\\road_classification\\\\Road Surface Image Dataset with Detailed Annotations\\\\dataset(v2)\\\\dataset\\\\test-set\\\\1',\n",
       "  'E:\\\\MAJOR PROJECT\\\\Dataset\\\\Dataset 0\\\\road_classification\\\\Road Surface Image Dataset with Detailed Annotations\\\\dataset(v2)\\\\dataset\\\\test-set\\\\10',\n",
       "  'E:\\\\MAJOR PROJECT\\\\Dataset\\\\Dataset 0\\\\road_classification\\\\Road Surface Image Dataset with Detailed Annotations\\\\dataset(v2)\\\\dataset\\\\test-set\\\\11',\n",
       "  'E:\\\\MAJOR PROJECT\\\\Dataset\\\\Dataset 0\\\\road_classification\\\\Road Surface Image Dataset with Detailed Annotations\\\\dataset(v2)\\\\dataset\\\\test-set\\\\12',\n",
       "  'E:\\\\MAJOR PROJECT\\\\Dataset\\\\Dataset 0\\\\road_classification\\\\Road Surface Image Dataset with Detailed Annotations\\\\dataset(v2)\\\\dataset\\\\test-set\\\\2',\n",
       "  'E:\\\\MAJOR PROJECT\\\\Dataset\\\\Dataset 0\\\\road_classification\\\\Road Surface Image Dataset with Detailed Annotations\\\\dataset(v2)\\\\dataset\\\\test-set\\\\3',\n",
       "  'E:\\\\MAJOR PROJECT\\\\Dataset\\\\Dataset 0\\\\road_classification\\\\Road Surface Image Dataset with Detailed Annotations\\\\dataset(v2)\\\\dataset\\\\test-set\\\\4',\n",
       "  'E:\\\\MAJOR PROJECT\\\\Dataset\\\\Dataset 0\\\\road_classification\\\\Road Surface Image Dataset with Detailed Annotations\\\\dataset(v2)\\\\dataset\\\\test-set\\\\5',\n",
       "  'E:\\\\MAJOR PROJECT\\\\Dataset\\\\Dataset 0\\\\road_classification\\\\Road Surface Image Dataset with Detailed Annotations\\\\dataset(v2)\\\\dataset\\\\test-set\\\\6',\n",
       "  'E:\\\\MAJOR PROJECT\\\\Dataset\\\\Dataset 0\\\\road_classification\\\\Road Surface Image Dataset with Detailed Annotations\\\\dataset(v2)\\\\dataset\\\\test-set\\\\7',\n",
       "  'E:\\\\MAJOR PROJECT\\\\Dataset\\\\Dataset 0\\\\road_classification\\\\Road Surface Image Dataset with Detailed Annotations\\\\dataset(v2)\\\\dataset\\\\test-set\\\\8',\n",
       "  'E:\\\\MAJOR PROJECT\\\\Dataset\\\\Dataset 0\\\\road_classification\\\\Road Surface Image Dataset with Detailed Annotations\\\\dataset(v2)\\\\dataset\\\\test-set\\\\9'],\n",
       " ['E:\\\\MAJOR PROJECT\\\\Dataset\\\\Dataset 0\\\\road_classification\\\\Road Surface Image Dataset with Detailed Annotations\\\\dataset(v2)\\\\dataset\\\\train-set\\\\dry_asphalt_severe',\n",
       "  'E:\\\\MAJOR PROJECT\\\\Dataset\\\\Dataset 0\\\\road_classification\\\\Road Surface Image Dataset with Detailed Annotations\\\\dataset(v2)\\\\dataset\\\\train-set\\\\dry_asphalt_slight',\n",
       "  'E:\\\\MAJOR PROJECT\\\\Dataset\\\\Dataset 0\\\\road_classification\\\\Road Surface Image Dataset with Detailed Annotations\\\\dataset(v2)\\\\dataset\\\\train-set\\\\dry_asphalt_smooth',\n",
       "  'E:\\\\MAJOR PROJECT\\\\Dataset\\\\Dataset 0\\\\road_classification\\\\Road Surface Image Dataset with Detailed Annotations\\\\dataset(v2)\\\\dataset\\\\train-set\\\\dry_concrete_severe',\n",
       "  'E:\\\\MAJOR PROJECT\\\\Dataset\\\\Dataset 0\\\\road_classification\\\\Road Surface Image Dataset with Detailed Annotations\\\\dataset(v2)\\\\dataset\\\\train-set\\\\dry_concrete_slight',\n",
       "  'E:\\\\MAJOR PROJECT\\\\Dataset\\\\Dataset 0\\\\road_classification\\\\Road Surface Image Dataset with Detailed Annotations\\\\dataset(v2)\\\\dataset\\\\train-set\\\\dry_concrete_smooth',\n",
       "  'E:\\\\MAJOR PROJECT\\\\Dataset\\\\Dataset 0\\\\road_classification\\\\Road Surface Image Dataset with Detailed Annotations\\\\dataset(v2)\\\\dataset\\\\train-set\\\\dry_gravel',\n",
       "  'E:\\\\MAJOR PROJECT\\\\Dataset\\\\Dataset 0\\\\road_classification\\\\Road Surface Image Dataset with Detailed Annotations\\\\dataset(v2)\\\\dataset\\\\train-set\\\\dry_mud',\n",
       "  'E:\\\\MAJOR PROJECT\\\\Dataset\\\\Dataset 0\\\\road_classification\\\\Road Surface Image Dataset with Detailed Annotations\\\\dataset(v2)\\\\dataset\\\\train-set\\\\fresh_snow',\n",
       "  'E:\\\\MAJOR PROJECT\\\\Dataset\\\\Dataset 0\\\\road_classification\\\\Road Surface Image Dataset with Detailed Annotations\\\\dataset(v2)\\\\dataset\\\\train-set\\\\ice',\n",
       "  'E:\\\\MAJOR PROJECT\\\\Dataset\\\\Dataset 0\\\\road_classification\\\\Road Surface Image Dataset with Detailed Annotations\\\\dataset(v2)\\\\dataset\\\\train-set\\\\melted_snow',\n",
       "  'E:\\\\MAJOR PROJECT\\\\Dataset\\\\Dataset 0\\\\road_classification\\\\Road Surface Image Dataset with Detailed Annotations\\\\dataset(v2)\\\\dataset\\\\train-set\\\\water_asphalt_severe',\n",
       "  'E:\\\\MAJOR PROJECT\\\\Dataset\\\\Dataset 0\\\\road_classification\\\\Road Surface Image Dataset with Detailed Annotations\\\\dataset(v2)\\\\dataset\\\\train-set\\\\water_asphalt_slight',\n",
       "  'E:\\\\MAJOR PROJECT\\\\Dataset\\\\Dataset 0\\\\road_classification\\\\Road Surface Image Dataset with Detailed Annotations\\\\dataset(v2)\\\\dataset\\\\train-set\\\\water_asphalt_smooth',\n",
       "  'E:\\\\MAJOR PROJECT\\\\Dataset\\\\Dataset 0\\\\road_classification\\\\Road Surface Image Dataset with Detailed Annotations\\\\dataset(v2)\\\\dataset\\\\train-set\\\\water_concrete_severe',\n",
       "  'E:\\\\MAJOR PROJECT\\\\Dataset\\\\Dataset 0\\\\road_classification\\\\Road Surface Image Dataset with Detailed Annotations\\\\dataset(v2)\\\\dataset\\\\train-set\\\\water_concrete_slight',\n",
       "  'E:\\\\MAJOR PROJECT\\\\Dataset\\\\Dataset 0\\\\road_classification\\\\Road Surface Image Dataset with Detailed Annotations\\\\dataset(v2)\\\\dataset\\\\train-set\\\\water_concrete_smooth',\n",
       "  'E:\\\\MAJOR PROJECT\\\\Dataset\\\\Dataset 0\\\\road_classification\\\\Road Surface Image Dataset with Detailed Annotations\\\\dataset(v2)\\\\dataset\\\\train-set\\\\water_gravel',\n",
       "  'E:\\\\MAJOR PROJECT\\\\Dataset\\\\Dataset 0\\\\road_classification\\\\Road Surface Image Dataset with Detailed Annotations\\\\dataset(v2)\\\\dataset\\\\train-set\\\\water_mud',\n",
       "  'E:\\\\MAJOR PROJECT\\\\Dataset\\\\Dataset 0\\\\road_classification\\\\Road Surface Image Dataset with Detailed Annotations\\\\dataset(v2)\\\\dataset\\\\train-set\\\\wet_asphalt_severe',\n",
       "  'E:\\\\MAJOR PROJECT\\\\Dataset\\\\Dataset 0\\\\road_classification\\\\Road Surface Image Dataset with Detailed Annotations\\\\dataset(v2)\\\\dataset\\\\train-set\\\\wet_asphalt_slight',\n",
       "  'E:\\\\MAJOR PROJECT\\\\Dataset\\\\Dataset 0\\\\road_classification\\\\Road Surface Image Dataset with Detailed Annotations\\\\dataset(v2)\\\\dataset\\\\train-set\\\\wet_asphalt_smooth',\n",
       "  'E:\\\\MAJOR PROJECT\\\\Dataset\\\\Dataset 0\\\\road_classification\\\\Road Surface Image Dataset with Detailed Annotations\\\\dataset(v2)\\\\dataset\\\\train-set\\\\wet_concrete_severe',\n",
       "  'E:\\\\MAJOR PROJECT\\\\Dataset\\\\Dataset 0\\\\road_classification\\\\Road Surface Image Dataset with Detailed Annotations\\\\dataset(v2)\\\\dataset\\\\train-set\\\\wet_concrete_slight',\n",
       "  'E:\\\\MAJOR PROJECT\\\\Dataset\\\\Dataset 0\\\\road_classification\\\\Road Surface Image Dataset with Detailed Annotations\\\\dataset(v2)\\\\dataset\\\\train-set\\\\wet_concrete_smooth',\n",
       "  'E:\\\\MAJOR PROJECT\\\\Dataset\\\\Dataset 0\\\\road_classification\\\\Road Surface Image Dataset with Detailed Annotations\\\\dataset(v2)\\\\dataset\\\\train-set\\\\wet_gravel',\n",
       "  'E:\\\\MAJOR PROJECT\\\\Dataset\\\\Dataset 0\\\\road_classification\\\\Road Surface Image Dataset with Detailed Annotations\\\\dataset(v2)\\\\dataset\\\\train-set\\\\wet_mud'])"
      ]
     },
     "execution_count": 48,
     "metadata": {},
     "output_type": "execute_result"
    }
   ],
   "source": [
    "test_Data_Files = DATSET_FOLDER_LIST[0][5:17]\n",
    "train_data_Files = DATSET_FOLDER_LIST[0][18:45]\n",
    "\n",
    "test_Data_Files, train_data_Files"
   ]
  },
  {
   "cell_type": "code",
   "execution_count": 49,
   "id": "87834a9a-d1c3-45b7-bb25-1cabb776c7e8",
   "metadata": {},
   "outputs": [],
   "source": [
    "import pandas as pd\n",
    "from typing import List\n",
    "\n",
    "def collect_image_and_text_data(directories: List[str]) -> pd.DataFrame:\n",
    "    \"\"\"\n",
    "    Collects image file paths and corresponding text file content from the given list of directories.\n",
    "\n",
    "    Parameters\n",
    "    ----------\n",
    "    directories : List[str]\n",
    "        A list of directory paths where each directory contains image files and corresponding text files.\n",
    "\n",
    "    Returns\n",
    "    -------\n",
    "    pd.DataFrame\n",
    "        A DataFrame with two columns: 'image_path' and 'text_content'.\n",
    "    \"\"\"\n",
    "    image_paths = []\n",
    "    text_contents = []\n",
    "\n",
    "    for dir_path in directories:\n",
    "        directory = Path(dir_path)\n",
    "\n",
    "        # Check if the directory exists\n",
    "        if not directory.exists() or not directory.is_dir():\n",
    "            continue\n",
    "\n",
    "        # Collect image files and corresponding text files\n",
    "        for item in directory.iterdir():\n",
    "            if item.is_file():\n",
    "                if item.suffix.lower() in ['.jpg', '.png', '.jpeg', '.bmp']:  # Image file extensions\n",
    "                    # Corresponding text file path\n",
    "                    text_file = directory / (item.stem + '.txt')\n",
    "                    if text_file.exists():\n",
    "                        with open(text_file, 'r', encoding='utf-8') as f:\n",
    "                            text_content = f.read()\n",
    "                    else:\n",
    "                        text_content = \"\"\n",
    "                    \n",
    "                    image_paths.append(str(item))\n",
    "                    text_contents.append(text_content)\n",
    "\n",
    "    # Create DataFrame\n",
    "    df = pd.DataFrame({\n",
    "        'image_path': image_paths,\n",
    "        'text_content': text_contents\n",
    "    })\n",
    "\n",
    "    return df"
   ]
  },
  {
   "cell_type": "code",
   "execution_count": 50,
   "id": "3ceaad22",
   "metadata": {},
   "outputs": [
    {
     "name": "stdout",
     "output_type": "stream",
     "text": [
      "                                            image_path  \\\n",
      "0    E:\\MAJOR PROJECT\\Dataset\\Dataset 0\\road_classi...   \n",
      "1    E:\\MAJOR PROJECT\\Dataset\\Dataset 0\\road_classi...   \n",
      "2    E:\\MAJOR PROJECT\\Dataset\\Dataset 0\\road_classi...   \n",
      "3    E:\\MAJOR PROJECT\\Dataset\\Dataset 0\\road_classi...   \n",
      "4    E:\\MAJOR PROJECT\\Dataset\\Dataset 0\\road_classi...   \n",
      "..                                                 ...   \n",
      "355  E:\\MAJOR PROJECT\\Dataset\\Dataset 0\\road_classi...   \n",
      "356  E:\\MAJOR PROJECT\\Dataset\\Dataset 0\\road_classi...   \n",
      "357  E:\\MAJOR PROJECT\\Dataset\\Dataset 0\\road_classi...   \n",
      "358  E:\\MAJOR PROJECT\\Dataset\\Dataset 0\\road_classi...   \n",
      "359  E:\\MAJOR PROJECT\\Dataset\\Dataset 0\\road_classi...   \n",
      "\n",
      "                                          text_content  \n",
      "0    dry-asphalt-smooth dry-asphalt-smooth dry-asph...  \n",
      "1    dry-asphalt-smooth dry-asphalt-smooth dry-asph...  \n",
      "2    dry-asphalt-smooth dry-asphalt-smooth dry-asph...  \n",
      "3    dry-asphalt-smooth dry-asphalt-smooth dry-asph...  \n",
      "4    dry-asphalt-smooth dry-asphalt-smooth dry-asph...  \n",
      "..                                                 ...  \n",
      "355  wet-concrete-smooth wet-concrete-smooth wet-co...  \n",
      "356  wet-concrete-smooth wet-concrete-smooth wet-co...  \n",
      "357  wet-concrete-smooth wet-concrete-smooth wet-co...  \n",
      "358  wet-concrete-smooth wet-concrete-smooth wet-co...  \n",
      "359  wet-concrete-smooth wet-concrete-smooth wet-co...  \n",
      "\n",
      "[360 rows x 2 columns]\n"
     ]
    }
   ],
   "source": [
    "df = collect_image_and_text_data(test_Data_Files)\n",
    "print(df)"
   ]
  },
  {
   "cell_type": "code",
   "execution_count": 51,
   "id": "7d7ff080",
   "metadata": {},
   "outputs": [
    {
     "data": {
      "text/plain": [
       "360"
      ]
     },
     "execution_count": 51,
     "metadata": {},
     "output_type": "execute_result"
    }
   ],
   "source": [
    "len(df)"
   ]
  },
  {
   "cell_type": "code",
   "execution_count": 52,
   "id": "1efd0b7a",
   "metadata": {},
   "outputs": [
    {
     "data": {
      "text/html": [
       "<div>\n",
       "<style scoped>\n",
       "    .dataframe tbody tr th:only-of-type {\n",
       "        vertical-align: middle;\n",
       "    }\n",
       "\n",
       "    .dataframe tbody tr th {\n",
       "        vertical-align: top;\n",
       "    }\n",
       "\n",
       "    .dataframe thead th {\n",
       "        text-align: right;\n",
       "    }\n",
       "</style>\n",
       "<table border=\"1\" class=\"dataframe\">\n",
       "  <thead>\n",
       "    <tr style=\"text-align: right;\">\n",
       "      <th></th>\n",
       "      <th>image_path</th>\n",
       "      <th>text_content</th>\n",
       "    </tr>\n",
       "  </thead>\n",
       "  <tbody>\n",
       "    <tr>\n",
       "      <th>0</th>\n",
       "      <td>E:\\MAJOR PROJECT\\Dataset\\Dataset 0\\road_classi...</td>\n",
       "      <td>dry-asphalt-smooth dry-asphalt-smooth dry-asph...</td>\n",
       "    </tr>\n",
       "    <tr>\n",
       "      <th>1</th>\n",
       "      <td>E:\\MAJOR PROJECT\\Dataset\\Dataset 0\\road_classi...</td>\n",
       "      <td>dry-asphalt-smooth dry-asphalt-smooth dry-asph...</td>\n",
       "    </tr>\n",
       "    <tr>\n",
       "      <th>2</th>\n",
       "      <td>E:\\MAJOR PROJECT\\Dataset\\Dataset 0\\road_classi...</td>\n",
       "      <td>dry-asphalt-smooth dry-asphalt-smooth dry-asph...</td>\n",
       "    </tr>\n",
       "    <tr>\n",
       "      <th>3</th>\n",
       "      <td>E:\\MAJOR PROJECT\\Dataset\\Dataset 0\\road_classi...</td>\n",
       "      <td>dry-asphalt-smooth dry-asphalt-smooth dry-asph...</td>\n",
       "    </tr>\n",
       "    <tr>\n",
       "      <th>4</th>\n",
       "      <td>E:\\MAJOR PROJECT\\Dataset\\Dataset 0\\road_classi...</td>\n",
       "      <td>dry-asphalt-smooth dry-asphalt-smooth dry-asph...</td>\n",
       "    </tr>\n",
       "  </tbody>\n",
       "</table>\n",
       "</div>"
      ],
      "text/plain": [
       "                                          image_path  \\\n",
       "0  E:\\MAJOR PROJECT\\Dataset\\Dataset 0\\road_classi...   \n",
       "1  E:\\MAJOR PROJECT\\Dataset\\Dataset 0\\road_classi...   \n",
       "2  E:\\MAJOR PROJECT\\Dataset\\Dataset 0\\road_classi...   \n",
       "3  E:\\MAJOR PROJECT\\Dataset\\Dataset 0\\road_classi...   \n",
       "4  E:\\MAJOR PROJECT\\Dataset\\Dataset 0\\road_classi...   \n",
       "\n",
       "                                        text_content  \n",
       "0  dry-asphalt-smooth dry-asphalt-smooth dry-asph...  \n",
       "1  dry-asphalt-smooth dry-asphalt-smooth dry-asph...  \n",
       "2  dry-asphalt-smooth dry-asphalt-smooth dry-asph...  \n",
       "3  dry-asphalt-smooth dry-asphalt-smooth dry-asph...  \n",
       "4  dry-asphalt-smooth dry-asphalt-smooth dry-asph...  "
      ]
     },
     "execution_count": 52,
     "metadata": {},
     "output_type": "execute_result"
    }
   ],
   "source": [
    "df.head()"
   ]
  },
  {
   "cell_type": "code",
   "execution_count": 53,
   "id": "cbbf5fb9",
   "metadata": {},
   "outputs": [
    {
     "name": "stdout",
     "output_type": "stream",
     "text": [
      "Number of unique words: 24\n",
      "\t0> water-concrete-severe\n",
      "\t1> wet-mud\n",
      "\t2> water-concrete-slight\n",
      "\t3> dry-gravel\n",
      "\t4> wet-gravel\n",
      "\t5> water-asphalt-smooth\n",
      "\t6> wet-concrete-smooth\n",
      "\t7> dry-asphalt-severe\n",
      "\t8> wet-asphalt-smooth\n",
      "\t9> water-asphalt-slight\n",
      "\t10> dry-asphalt-slight\n",
      "\t11> water-asphalt-severe\n",
      "\t12> dry-concrete-severe\n",
      "\t13> dry-concrete-slight\n",
      "\t14> wet-concrete-severe\n",
      "\t15> water-gravel\n",
      "\t16> water-mud\n",
      "\t17> wet-asphalt-severe\n",
      "\t18> wet-concrete-slight\n",
      "\t19> dry-mud\n",
      "\t20> dry-asphalt-smooth\n",
      "\t21> dry-concrete-smooth\n",
      "\t22> water-concrete-smooth\n",
      "\t23> wet-asphalt-slight\n"
     ]
    }
   ],
   "source": [
    "# Combine all text content into a single string\n",
    "all_text = ' '.join(df['text_content'])\n",
    "\n",
    "# Split the text into words and find unique words\n",
    "unique_words = set(all_text.split())\n",
    "\n",
    "# Count unique words\n",
    "num_unique_words = len(unique_words)\n",
    "\n",
    "print(f\"Number of unique words: {num_unique_words}\")\n",
    "for j,i in enumerate(unique_words):\n",
    "    print(f'\\t{j}>',i)"
   ]
  },
  {
   "cell_type": "code",
   "execution_count": 54,
   "id": "2a0e7fdf",
   "metadata": {},
   "outputs": [],
   "source": [
    "# Apply one-hot encoding to 'text_content'\n",
    "df_encoded = df['text_content'].str.get_dummies(sep=' ')\n",
    "\n",
    "# Concatenate the one-hot encoded columns with the original DataFrame\n",
    "df_combined = pd.concat([df, df_encoded], axis=1)\n",
    "\n",
    "# Drop the original 'text_content' column if it's no longer needed\n",
    "df_combined = df_combined.drop(columns=['text_content'])"
   ]
  },
  {
   "cell_type": "code",
   "execution_count": 56,
   "id": "51866def",
   "metadata": {},
   "outputs": [
    {
     "name": "stdout",
     "output_type": "stream",
     "text": [
      "                                          image_path  dry-asphalt-severe  \\\n",
      "0  E:\\MAJOR PROJECT\\Dataset\\Dataset 0\\road_classi...                   0   \n",
      "1  E:\\MAJOR PROJECT\\Dataset\\Dataset 0\\road_classi...                   0   \n",
      "2  E:\\MAJOR PROJECT\\Dataset\\Dataset 0\\road_classi...                   0   \n",
      "3  E:\\MAJOR PROJECT\\Dataset\\Dataset 0\\road_classi...                   0   \n",
      "4  E:\\MAJOR PROJECT\\Dataset\\Dataset 0\\road_classi...                   0   \n",
      "\n",
      "   dry-asphalt-slight  dry-asphalt-smooth  dry-concrete-severe  \\\n",
      "0                   0                   8                    0   \n",
      "1                   0                   8                    0   \n",
      "2                   0                   8                    0   \n",
      "3                   0                   8                    0   \n",
      "4                   0                   8                    0   \n",
      "\n",
      "   dry-concrete-slight  dry-concrete-smooth  dry-gravel  dry-mud  \\\n",
      "0                    0                    0           0        0   \n",
      "1                    0                    0           0        0   \n",
      "2                    0                    0           0        0   \n",
      "3                    0                    0           0        0   \n",
      "4                    0                    0           0        0   \n",
      "\n",
      "   water-asphalt-severe  ...  water-gravel  water-mud  wet-asphalt-severe  \\\n",
      "0                     0  ...             0          0                   0   \n",
      "1                     0  ...             0          0                   0   \n",
      "2                     0  ...             0          0                   0   \n",
      "3                     0  ...             0          0                   0   \n",
      "4                     0  ...             0          0                   0   \n",
      "\n",
      "   wet-asphalt-slight  wet-asphalt-smooth  wet-concrete-severe  \\\n",
      "0                   0                   0                    0   \n",
      "1                   0                   0                    0   \n",
      "2                   0                   0                    0   \n",
      "3                   0                   0                    0   \n",
      "4                   0                   0                    0   \n",
      "\n",
      "   wet-concrete-slight  wet-concrete-smooth  wet-gravel  wet-mud  \n",
      "0                    0                    0           0        0  \n",
      "1                    0                    0           0        0  \n",
      "2                    0                    0           0        0  \n",
      "3                    0                    0           0        0  \n",
      "4                    0                    0           0        0  \n",
      "\n",
      "[5 rows x 25 columns]\n"
     ]
    }
   ],
   "source": [
    "from sklearn.feature_extraction.text import CountVectorizer\n",
    "import pandas as pd\n",
    "\n",
    "# Define the specific vocabulary set\n",
    "vocabulary = [\n",
    "    'dry-asphalt-severe', 'dry-asphalt-slight', 'dry-asphalt-smooth', \n",
    "    'dry-concrete-severe', 'dry-concrete-slight', 'dry-concrete-smooth', \n",
    "    'dry-gravel', 'dry-mud', 'water-asphalt-severe', 'water-asphalt-slight', \n",
    "    'water-asphalt-smooth', 'water-concrete-severe', 'water-concrete-slight', \n",
    "    'water-concrete-smooth', 'water-gravel', 'water-mud', 'wet-asphalt-severe', \n",
    "    'wet-asphalt-slight', 'wet-asphalt-smooth', 'wet-concrete-severe', \n",
    "    'wet-concrete-slight', 'wet-concrete-smooth', 'wet-gravel', 'wet-mud'\n",
    "]\n",
    "\n",
    "# Initialize CountVectorizer with the provided vocabulary and a custom token pattern\n",
    "vectorizer = CountVectorizer(vocabulary=vocabulary, token_pattern=r'\\b[\\w-]+\\b')\n",
    "\n",
    "# Fit and transform the text content to get phrase counts\n",
    "X_counts = vectorizer.fit_transform(df['text_content'])\n",
    "\n",
    "# Convert the resulting sparse matrix to a DataFrame\n",
    "df_encoded_number = pd.DataFrame(X_counts.toarray(), columns=vectorizer.get_feature_names_out())\n",
    "\n",
    "# Combine the DataFrame with the encoded counts, but exclude the 'text_content' column\n",
    "df_combined_number = pd.concat([df.drop(columns=['text_content']), df_encoded_number], axis=1)\n",
    "\n",
    "# Display the first few rows of the result\n",
    "print(df_combined_number.head())\n"
   ]
  },
  {
   "cell_type": "code",
   "execution_count": 14,
   "id": "679c5023",
   "metadata": {},
   "outputs": [
    {
     "name": "stdout",
     "output_type": "stream",
     "text": [
      "<class 'pandas.core.frame.DataFrame'>\n",
      "RangeIndex: 360 entries, 0 to 359\n",
      "Data columns (total 25 columns):\n",
      " #   Column                 Non-Null Count  Dtype \n",
      "---  ------                 --------------  ----- \n",
      " 0   image_path             360 non-null    object\n",
      " 1   dry-asphalt-severe     360 non-null    int64 \n",
      " 2   dry-asphalt-slight     360 non-null    int64 \n",
      " 3   dry-asphalt-smooth     360 non-null    int64 \n",
      " 4   dry-concrete-severe    360 non-null    int64 \n",
      " 5   dry-concrete-slight    360 non-null    int64 \n",
      " 6   dry-concrete-smooth    360 non-null    int64 \n",
      " 7   dry-gravel             360 non-null    int64 \n",
      " 8   dry-mud                360 non-null    int64 \n",
      " 9   water-asphalt-severe   360 non-null    int64 \n",
      " 10  water-asphalt-slight   360 non-null    int64 \n",
      " 11  water-asphalt-smooth   360 non-null    int64 \n",
      " 12  water-concrete-severe  360 non-null    int64 \n",
      " 13  water-concrete-slight  360 non-null    int64 \n",
      " 14  water-concrete-smooth  360 non-null    int64 \n",
      " 15  water-gravel           360 non-null    int64 \n",
      " 16  water-mud              360 non-null    int64 \n",
      " 17  wet-asphalt-severe     360 non-null    int64 \n",
      " 18  wet-asphalt-slight     360 non-null    int64 \n",
      " 19  wet-asphalt-smooth     360 non-null    int64 \n",
      " 20  wet-concrete-severe    360 non-null    int64 \n",
      " 21  wet-concrete-slight    360 non-null    int64 \n",
      " 22  wet-concrete-smooth    360 non-null    int64 \n",
      " 23  wet-gravel             360 non-null    int64 \n",
      " 24  wet-mud                360 non-null    int64 \n",
      "dtypes: int64(24), object(1)\n",
      "memory usage: 70.4+ KB\n"
     ]
    }
   ],
   "source": [
    "df_combined.info()"
   ]
  },
  {
   "cell_type": "code",
   "execution_count": 15,
   "id": "280bc1b6",
   "metadata": {},
   "outputs": [],
   "source": [
    "from collections import defaultdict\n",
    "\n",
    "# Initialize a dictionary to store counts\n",
    "folder_file_counts = defaultdict(int)\n",
    "\n",
    "# Count files in each folder\n",
    "for folder_path in train_data_Files:\n",
    "    files = list_files_in_folder(folder_path)\n",
    "    folder_name = Path(folder_path).name\n",
    "    folder_file_counts[folder_name] = len(files)\n",
    "\n",
    "# Convert dictionary to DataFrame\n",
    "df_file_counts = pd.DataFrame(list(folder_file_counts.items()), columns=['Folder', 'File Count'])"
   ]
  },
  {
   "cell_type": "code",
   "execution_count": 16,
   "id": "8240b3ff",
   "metadata": {},
   "outputs": [
    {
     "name": "stderr",
     "output_type": "stream",
     "text": [
      "C:\\Users\\lenovo\\AppData\\Local\\Temp\\ipykernel_27740\\1101175333.py:6: FutureWarning: \n",
      "\n",
      "Passing `palette` without assigning `hue` is deprecated and will be removed in v0.14.0. Assign the `x` variable to `hue` and set `legend=False` for the same effect.\n",
      "\n",
      "  bar_plot = sns.barplot(data=df_file_counts, x='Folder', y='File Count', palette='viridis')\n"
     ]
    },
    {
     "data": {
      "image/png": "[encoded data removed]",
      "text/plain": [
       "<Figure size 1800x700 with 1 Axes>"
      ]
     },
     "metadata": {},
     "output_type": "display_data"
    }
   ],
   "source": [
    "import seaborn as sns\n",
    "import matplotlib.pyplot as plt\n",
    "\n",
    "# Create a bar plot\n",
    "plt.figure(figsize=(18, 7))\n",
    "bar_plot = sns.barplot(data=df_file_counts, x='Folder', y='File Count', palette='viridis')\n",
    "\n",
    "# Add titles and labels\n",
    "bar_plot.set_title('Number of Files per Class Type in TRAINING DATASET', fontsize=16)\n",
    "bar_plot.set_xlabel('Class Type (Folder Name)', fontsize=12)\n",
    "bar_plot.set_ylabel('Number of Files', fontsize=12)\n",
    "\n",
    "# Rotate x-axis labels for better readability\n",
    "plt.xticks(rotation=45, ha='right')\n",
    "\n",
    "# Show the plot\n",
    "plt.tight_layout()\n",
    "plt.show()\n"
   ]
  },
  {
   "cell_type": "code",
   "execution_count": 17,
   "id": "6d083cec",
   "metadata": {},
   "outputs": [
    {
     "name": "stdout",
     "output_type": "stream",
     "text": [
      "                                          image_path          class_type\n",
      "0  E:\\MAJOR PROJECT\\Dataset\\Dataset 0\\road_classi...  dry_asphalt_severe\n",
      "1  E:\\MAJOR PROJECT\\Dataset\\Dataset 0\\road_classi...  dry_asphalt_severe\n",
      "2  E:\\MAJOR PROJECT\\Dataset\\Dataset 0\\road_classi...  dry_asphalt_severe\n",
      "3  E:\\MAJOR PROJECT\\Dataset\\Dataset 0\\road_classi...  dry_asphalt_severe\n",
      "4  E:\\MAJOR PROJECT\\Dataset\\Dataset 0\\road_classi...  dry_asphalt_severe\n"
     ]
    }
   ],
   "source": [
    "image_paths = []\n",
    "class_types = []\n",
    "\n",
    "# Extract image paths and their class types\n",
    "for folder_path in train_data_Files:\n",
    "    files = list_files_in_folder(folder_path)\n",
    "    folder_name = Path(folder_path).name  # Assuming folder name is the class type\n",
    "    \n",
    "    for file in files:\n",
    "        image_paths.append(file)\n",
    "        class_types.append(folder_name)\n",
    "\n",
    "# Create a DataFrame with image paths and class types\n",
    "df_image_class = pd.DataFrame({\n",
    "    'image_path': image_paths,\n",
    "    'class_type': class_types\n",
    "})\n",
    "\n",
    "# Display the first few rows of the DataFrame\n",
    "print(df_image_class.head())"
   ]
  },
  {
   "cell_type": "code",
   "execution_count": 26,
   "id": "fe5e6cd6",
   "metadata": {},
   "outputs": [
    {
     "data": {
      "text/plain": [
       "('Number of Extracted Images: ', 370151)"
      ]
     },
     "execution_count": 26,
     "metadata": {},
     "output_type": "execute_result"
    }
   ],
   "source": [
    "'Number of Extracted Images: ',len(df_image_class)"
   ]
  },
  {
   "cell_type": "code",
   "execution_count": 27,
   "id": "a00170a0",
   "metadata": {},
   "outputs": [
    {
     "data": {
      "text/plain": [
       "('Actual Number of Images:', 370151)"
      ]
     },
     "execution_count": 27,
     "metadata": {},
     "output_type": "execute_result"
    }
   ],
   "source": [
    "'Actual Number of Images:',sum(folder_file_counts.values())"
   ]
  },
  {
   "cell_type": "code",
   "execution_count": 24,
   "id": "442f3742",
   "metadata": {},
   "outputs": [
    {
     "name": "stdout",
     "output_type": "stream",
     "text": [
      "                    Class  Count\n",
      "0      dry_asphalt_severe   7930\n",
      "1      dry_asphalt_slight  23090\n",
      "2      dry_asphalt_smooth  19913\n",
      "3     dry_concrete_severe  21194\n",
      "4     dry_concrete_slight  11811\n",
      "5     dry_concrete_smooth  19003\n",
      "6              dry_gravel  21413\n",
      "7                 dry_mud  22094\n",
      "8              fresh_snow  20511\n",
      "9                     ice  21203\n",
      "10            melted_snow  19902\n",
      "11   water_asphalt_severe   2204\n",
      "12   water_asphalt_slight   2800\n",
      "13   water_asphalt_smooth  21612\n",
      "14  water_concrete_severe   4024\n",
      "15  water_concrete_slight   1181\n",
      "16  water_concrete_smooth  19226\n",
      "17           water_gravel   6435\n",
      "18              water_mud   7155\n",
      "19     wet_asphalt_severe   1646\n",
      "20     wet_asphalt_slight   9408\n",
      "21     wet_asphalt_smooth  21746\n",
      "22    wet_concrete_severe   2763\n",
      "23    wet_concrete_slight   1163\n",
      "24    wet_concrete_smooth  17376\n",
      "25             wet_gravel  21208\n",
      "26                wet_mud  22140\n",
      "                                          image_path  dry-asphalt-severe  \\\n",
      "0  E:\\MAJOR PROJECT\\Dataset\\Dataset 0\\road_classi...                   0   \n",
      "1  E:\\MAJOR PROJECT\\Dataset\\Dataset 0\\road_classi...                   0   \n",
      "2  E:\\MAJOR PROJECT\\Dataset\\Dataset 0\\road_classi...                   0   \n",
      "3  E:\\MAJOR PROJECT\\Dataset\\Dataset 0\\road_classi...                   0   \n",
      "4  E:\\MAJOR PROJECT\\Dataset\\Dataset 0\\road_classi...                   0   \n",
      "\n",
      "   dry-asphalt-slight  dry-asphalt-smooth  dry-concrete-severe  \\\n",
      "0                   0                   1                    0   \n",
      "1                   0                   1                    0   \n",
      "2                   0                   1                    0   \n",
      "3                   0                   1                    0   \n",
      "4                   0                   1                    0   \n",
      "\n",
      "   dry-concrete-slight  dry-concrete-smooth  dry-gravel  dry-mud  \\\n",
      "0                    0                    0           0        0   \n",
      "1                    0                    0           0        0   \n",
      "2                    0                    0           0        0   \n",
      "3                    0                    0           0        0   \n",
      "4                    0                    0           0        0   \n",
      "\n",
      "   water-asphalt-severe  ...  water-gravel  water-mud  wet-asphalt-severe  \\\n",
      "0                     0  ...             0          0                   0   \n",
      "1                     0  ...             0          0                   0   \n",
      "2                     0  ...             0          0                   0   \n",
      "3                     0  ...             0          0                   0   \n",
      "4                     0  ...             0          0                   0   \n",
      "\n",
      "   wet-asphalt-slight  wet-asphalt-smooth  wet-concrete-severe  \\\n",
      "0                   0                   0                    0   \n",
      "1                   0                   0                    0   \n",
      "2                   0                   0                    0   \n",
      "3                   0                   0                    0   \n",
      "4                   0                   0                    0   \n",
      "\n",
      "   wet-concrete-slight  wet-concrete-smooth  wet-gravel  wet-mud  \n",
      "0                    0                    0           0        0  \n",
      "1                    0                    0           0        0  \n",
      "2                    0                    0           0        0  \n",
      "3                    0                    0           0        0  \n",
      "4                    0                    0           0        0  \n",
      "\n",
      "[5 rows x 25 columns]\n",
      "                                          image_path          class_type\n",
      "0  E:\\MAJOR PROJECT\\Dataset\\Dataset 0\\road_classi...  dry_asphalt_severe\n",
      "1  E:\\MAJOR PROJECT\\Dataset\\Dataset 0\\road_classi...  dry_asphalt_severe\n",
      "2  E:\\MAJOR PROJECT\\Dataset\\Dataset 0\\road_classi...  dry_asphalt_severe\n",
      "3  E:\\MAJOR PROJECT\\Dataset\\Dataset 0\\road_classi...  dry_asphalt_severe\n",
      "4  E:\\MAJOR PROJECT\\Dataset\\Dataset 0\\road_classi...  dry_asphalt_severe\n"
     ]
    }
   ],
   "source": [
    "df_file_counts = pd.DataFrame.from_dict(folder_file_counts, orient='index', columns=['Count'])\n",
    "df_file_counts.index.name = 'Class'\n",
    "\n",
    "# Reset index to make 'Folder' a column instead of an index\n",
    "df_file_counts.reset_index(inplace=True)\n",
    "\n",
    "# Display the DataFrame\n",
    "print(df_file_counts)\n",
    "print(df_combined.head())\n",
    "print(df_image_class.head())"
   ]
  },
  {
   "cell_type": "code",
   "execution_count": 57,
   "id": "48ae2117",
   "metadata": {},
   "outputs": [],
   "source": [
    "CSV_FILE_PATH = \"Dataset\\\\Dataset0\\\\\"\n",
    "\n",
    "# df_file_counts.to_csv(CSV_FILE_PATH+'df_file_counts.csv', index=False)\n",
    "# df_combined.to_csv(CSV_FILE_PATH+'df_test_data_onehotencoding.csv', index=False)\n",
    "# df_image_class.to_csv(CSV_FILE_PATH+'df_image_class.csv', index=False)"
   ]
  },
  {
   "cell_type": "code",
   "execution_count": 58,
   "id": "05bad25a",
   "metadata": {},
   "outputs": [],
   "source": [
    "# df_combined_number.to_csv(CSV_FILE_PATH+'df_test_data_number.csv', index=False)"
   ]
  },
  {
   "cell_type": "code",
   "execution_count": null,
   "id": "981e0329",
   "metadata": {},
   "outputs": [],
   "source": []
  }
 ],
 "metadata": {
  "kernelspec": {
   "display_name": "Python 3 (ipykernel)",
   "language": "python",
   "name": "python3"
  }
 },
 "nbformat": 4,
 "nbformat_minor": 5
}
